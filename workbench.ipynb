{
 "cells": [
  {
   "cell_type": "code",
   "execution_count": 1,
   "id": "73e66ec0",
   "metadata": {},
   "outputs": [],
   "source": [
    "import minerva\n",
    "import pandas as pd"
   ]
  },
  {
   "cell_type": "code",
   "execution_count": 2,
   "id": "9178f3dc",
   "metadata": {},
   "outputs": [],
   "source": [
    "namdar = minerva.login(sid='260893536', pin='12a34b')"
   ]
  },
  {
   "cell_type": "code",
   "execution_count": 3,
   "id": "14d3d290",
   "metadata": {},
   "outputs": [
    {
     "name": "stderr",
     "output_type": "stream",
     "text": [
      "/Users/namdar/Documents/GitHub/minerva/minerva/transcript.py:64: GuessedAtParserWarning: No parser was explicitly specified, so I'm using the best available HTML parser for this system (\"lxml\"). This usually isn't a problem, but if you run this code on another system, or in a different virtual environment, it may use a different parser and behave differently.\n",
      "\n",
      "The code that caused this warning is on line 64 of the file /Users/namdar/Documents/GitHub/minerva/minerva/transcript.py. To get rid of this warning, pass the additional argument 'features=\"lxml\"' to the BeautifulSoup constructor.\n",
      "\n",
      "  html = bs4.BeautifulSoup(html)\n"
     ]
    }
   ],
   "source": [
    "transcript = namdar.transcript()"
   ]
  },
  {
   "cell_type": "code",
   "execution_count": 4,
   "id": "69f528d7",
   "metadata": {},
   "outputs": [],
   "source": [
    "df = pd.DataFrame(transcript)"
   ]
  },
  {
   "cell_type": "code",
   "execution_count": 6,
   "id": "0ce9e2ae",
   "metadata": {},
   "outputs": [],
   "source": [
    "df = df.drop([0, 2, 5, 7, 9, 10], axis=1)"
   ]
  },
  {
   "cell_type": "code",
   "execution_count": 7,
   "id": "461683dc",
   "metadata": {},
   "outputs": [],
   "source": [
    "df = df.rename(columns={1: 'code', 3: 'course name', 4: 'credits', 6:'grade', 8:'status'})"
   ]
  },
  {
   "cell_type": "code",
   "execution_count": 8,
   "id": "c9015c9b",
   "metadata": {},
   "outputs": [],
   "source": [
    "df.to_csv('./transcript.csv')"
   ]
  },
  {
   "cell_type": "code",
   "execution_count": null,
   "id": "b3b52b40",
   "metadata": {},
   "outputs": [],
   "source": []
  }
 ],
 "metadata": {
  "kernelspec": {
   "display_name": "Python 3 (ipykernel)",
   "language": "python",
   "name": "python3"
  },
  "language_info": {
   "codemirror_mode": {
    "name": "ipython",
    "version": 3
   },
   "file_extension": ".py",
   "mimetype": "text/x-python",
   "name": "python",
   "nbconvert_exporter": "python",
   "pygments_lexer": "ipython3",
   "version": "3.9.1"
  }
 },
 "nbformat": 4,
 "nbformat_minor": 5
}
