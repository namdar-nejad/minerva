{
 "cells": [
  {
   "cell_type": "code",
   "execution_count": 1,
   "id": "73e66ec0",
   "metadata": {},
   "outputs": [],
   "source": [
    "import minerva\n",
    "import pandas as pd"
   ]
  },
  {
   "cell_type": "code",
   "execution_count": null,
   "id": "9178f3dc",
   "metadata": {},
   "outputs": [],
   "source": [
    "namdar = minerva.login(sid='username', pin='password')"
   ]
  },
  {
   "cell_type": "code",
   "execution_count": null,
   "id": "14d3d290",
   "metadata": {},
   "outputs": [],
   "source": [
    "transcript = namdar.transcript()"
   ]
  },
  {
   "cell_type": "code",
   "execution_count": null,
   "id": "69f528d7",
   "metadata": {},
   "outputs": [],
   "source": [
    "df = pd.DataFrame(transcript)"
   ]
  },
  {
   "cell_type": "code",
   "execution_count": null,
   "id": "0ce9e2ae",
   "metadata": {},
   "outputs": [],
   "source": [
    "df = df.drop([0, 2, 5, 7, 9, 10], axis=1)"
   ]
  },
  {
   "cell_type": "code",
   "execution_count": null,
   "id": "461683dc",
   "metadata": {},
   "outputs": [],
   "source": [
    "df = df.rename(columns={1: 'code', 3: 'course name', 4: 'credits', 6:'grade', 8:'status'})"
   ]
  },
  {
   "cell_type": "code",
   "execution_count": null,
   "id": "c9015c9b",
   "metadata": {},
   "outputs": [],
   "source": [
    "df.to_csv('./transcript.csv')"
   ]
  },
  {
   "cell_type": "code",
   "execution_count": null,
   "id": "b3b52b40",
   "metadata": {},
   "outputs": [],
   "source": []
  }
 ],
 "metadata": {
  "kernelspec": {
   "display_name": "Python 3 (ipykernel)",
   "language": "python",
   "name": "python3"
  },
  "language_info": {
   "codemirror_mode": {
    "name": "ipython",
    "version": 3
   },
   "file_extension": ".py",
   "mimetype": "text/x-python",
   "name": "python",
   "nbconvert_exporter": "python",
   "pygments_lexer": "ipython3",
   "version": "3.9.1"
  }
 },
 "nbformat": 4,
 "nbformat_minor": 5
}
